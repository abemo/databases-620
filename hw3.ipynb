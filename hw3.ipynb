{
 "cells": [
  {
   "cell_type": "markdown",
   "metadata": {},
   "source": [
    "# HW3\n",
    "This program retrieves eia government API data and writes it to a sqlite3 db."
   ]
  },
  {
   "cell_type": "code",
   "execution_count": 2,
   "metadata": {},
   "outputs": [],
   "source": [
    "import config\n",
    "import sqlite3\n",
    "import requests\n",
    "import pandas as pd"
   ]
  },
  {
   "cell_type": "code",
   "execution_count": 3,
   "metadata": {},
   "outputs": [],
   "source": [
    "# get data (EXTRACT)\n",
    "EIA_API_KEY = config.EIA_API_KEY\n",
    "API_ROUTE = config.EIA_API_ROUTE\n",
    "data = None\n",
    "try:\n",
    "    response = requests.get(API_ROUTE, headers={\"X-Api-Key\": EIA_API_KEY})\n",
    "    response.raise_for_status() \n",
    "    data = response.json()\n",
    "    data = data['response']['data']\n",
    "except requests.exceptions.HTTPError as http_err:\n",
    "    print(f\"HTTP error occurred: {http_err}\")\n",
    "except Exception as err:\n",
    "    print(f\"Other error occurred: {err}\")"
   ]
  },
  {
   "cell_type": "code",
   "execution_count": 4,
   "metadata": {},
   "outputs": [],
   "source": [
    "# put the data into a pandas dataframe (TRANSFORM)\n",
    "if data is None:\n",
    "    print(\"Data is None\")\n",
    "    exit()\n",
    "df = pd.DataFrame(data)\n",
    "# Sort by time period\n",
    "df_sorted = df.sort_values(by='period', ascending=False)"
   ]
  },
  {
   "cell_type": "code",
   "execution_count": 5,
   "metadata": {},
   "outputs": [],
   "source": [
    "# write to sqlite database (LOAD)\n",
    "conn = sqlite3.connect('energy_data.db')\n",
    "cursor = conn.cursor()\n",
    "# Drop the table if it already exists\n",
    "cursor.execute('DROP TABLE IF EXISTS energy_data')\n",
    "# Create the table with adjusted column names\n",
    "cursor.execute('''CREATE TABLE IF NOT EXISTS energy_data (\n",
    "                    period TEXT,\n",
    "                    product_name TEXT,\n",
    "                    activity_name TEXT,\n",
    "                    value REAL,\n",
    "                    unit TEXT)''')\n",
    "\n",
    "# Insert the data into the table\n",
    "for _, row in df.iterrows():\n",
    "    value = row['value']\n",
    "    \n",
    "    if value == 'w' or value == '--':\n",
    "        value = None\n",
    "    \n",
    "    cursor.execute('''INSERT INTO energy_data (period, product_name, activity_name, value, unit) \n",
    "                      VALUES (?, ?, ?, ?, ?)''', \n",
    "                      (row['period'], row['productName'], row['activityName'], value, row['unit']))\n",
    "\n",
    "conn.commit()\n",
    "conn.close()\n"
   ]
  },
  {
   "cell_type": "code",
   "execution_count": 6,
   "metadata": {},
   "outputs": [
    {
     "name": "stdout",
     "output_type": "stream",
     "text": [
      "('2011', 'Refined petroleum products', 37818914.1932261)\n",
      "('2012', 'Refined petroleum products', 36968829.66348722)\n",
      "('2013', 'Refined petroleum products', 37665936.11771712)\n",
      "('2014', 'Refined petroleum products', 37958618.21962755)\n",
      "('2015', 'Refined petroleum products', 38763024.61687428)\n",
      "('2016', 'Refined petroleum products', 39241938.14488688)\n",
      "('2017', 'Refined petroleum products', 39588724.18721048)\n",
      "('2018', 'Refined petroleum products', 40466262.94988344)\n",
      "('2019', 'Refined petroleum products', 40439642.89580417)\n",
      "('2020', 'Refined petroleum products', 35496819.50868142)\n"
     ]
    }
   ],
   "source": [
    "# query the most popular (most consumed by value) energy source per year\n",
    "conn = sqlite3.connect('energy_data.db')\n",
    "cursor = conn.cursor()\n",
    "\n",
    "cursor.execute('''SELECT period, product_name, MAX(value) as max_value\n",
    "                    FROM energy_data\n",
    "                    WHERE activity_name = 'Consumption'\n",
    "                    AND product_name != 'Primary energy'\n",
    "                    GROUP BY period''')\n",
    "\n",
    "rows = cursor.fetchall()\n",
    "for row in rows:\n",
    "    print(row)\n",
    "    \n",
    "conn.close()"
   ]
  },
  {
   "cell_type": "code",
   "execution_count": 7,
   "metadata": {},
   "outputs": [
    {
     "name": "stdout",
     "output_type": "stream",
     "text": [
      "('Consumption', 33079310.7404043)\n",
      "('Production', 29814652.43431527)\n"
     ]
    }
   ],
   "source": [
    "# find the average total energy consumption, and production over the total time span\n",
    "conn = sqlite3.connect('energy_data.db')\n",
    "cursor = conn.cursor()\n",
    "\n",
    "cursor.execute('''\n",
    "    SELECT 'Consumption' as activity, AVG(value) as avg_value\n",
    "    FROM energy_data\n",
    "    WHERE activity_name = 'Consumption'\n",
    "    AND product_name = 'Primary energy'\n",
    "    UNION\n",
    "    SELECT 'Production' as activity, AVG(value) as avg_value\n",
    "    FROM energy_data\n",
    "    WHERE activity_name = 'Production'\n",
    "    AND product_name = 'Primary energy'\n",
    "''')\n",
    "\n",
    "rows = cursor.fetchall()\n",
    "for row in rows:\n",
    "    print(row)\n",
    "    \n",
    "conn.close()\n"
   ]
  },
  {
   "cell_type": "code",
   "execution_count": 9,
   "metadata": {},
   "outputs": [
    {
     "name": "stdout",
     "output_type": "stream",
     "text": [
      "Initial rows: [('Bunker', 12), ('Capacity', 130), ('Consumption', 1112), ('Distribution losses', 10), ('Emissions', 70), ('Exports', 462), ('GDP', 20), ('Generation', 470), ('Imports', 462), ('Net imports', 40), ('Population', 20), ('Production', 810), ('Reserves', 10), ('Stocks, OECD', 10)]\n",
      "Rows after delete: [('Bunker', 12), ('Capacity', 130), ('Consumption', 1112), ('Distribution losses', 10), ('Emissions', 70), ('Exports', 462), ('GDP', 20), ('Generation', 470), ('Imports', 462), ('Net imports', 40), ('Population', 20), ('Production', 810), ('Reserves', 10), ('Stocks, OECD', 10)]\n",
      "Rows after rollback: [('Bunker', 12), ('Capacity', 130), ('Consumption', 1112), ('Distribution losses', 10), ('Emissions', 70), ('Exports', 462), ('GDP', 20), ('Generation', 470), ('Imports', 462), ('Net imports', 40), ('Population', 20), ('Production', 810), ('Reserves', 10), ('Stocks, OECD', 10)]\n"
     ]
    }
   ],
   "source": [
    "# Connect to the database\n",
    "conn = sqlite3.connect('energy_data.db')\n",
    "cursor = conn.cursor()\n",
    "\n",
    "# Display initial rows\n",
    "cursor.execute('''\n",
    "    SELECT activity_name, COUNT(*)\n",
    "    FROM energy_data\n",
    "    GROUP BY activity_name\n",
    "''')\n",
    "rows = cursor.fetchall()\n",
    "print(\"Initial rows:\", rows)\n",
    "\n",
    "# Begin transaction\n",
    "cursor.execute('BEGIN TRANSACTION')\n",
    "\n",
    "# Delete rows where activity_name is 'Export'\n",
    "cursor.execute('''\n",
    "    DELETE FROM energy_data\n",
    "    WHERE activity_name = 'Export'\n",
    "''')\n",
    "\n",
    "# Display rows after deletion\n",
    "cursor.execute('''\n",
    "    SELECT activity_name, COUNT(*)\n",
    "    FROM energy_data\n",
    "    GROUP BY activity_name\n",
    "''')\n",
    "rows = cursor.fetchall()\n",
    "print(\"Rows after delete:\", rows)\n",
    "\n",
    "# Rollback the transaction\n",
    "cursor.execute('ROLLBACK')\n",
    "\n",
    "# Display rows after rollback\n",
    "cursor.execute('''\n",
    "    SELECT activity_name, COUNT(*)\n",
    "    FROM energy_data\n",
    "    GROUP BY activity_name\n",
    "''')\n",
    "rows = cursor.fetchall()\n",
    "print(\"Rows after rollback:\", rows)\n",
    "\n",
    "# Close the connection\n",
    "conn.close()\n"
   ]
  }
 ],
 "metadata": {
  "kernelspec": {
   "display_name": "cmsi-5350-env",
   "language": "python",
   "name": "python3"
  },
  "language_info": {
   "codemirror_mode": {
    "name": "ipython",
    "version": 3
   },
   "file_extension": ".py",
   "mimetype": "text/x-python",
   "name": "python",
   "nbconvert_exporter": "python",
   "pygments_lexer": "ipython3",
   "version": "3.11.2"
  }
 },
 "nbformat": 4,
 "nbformat_minor": 2
}
