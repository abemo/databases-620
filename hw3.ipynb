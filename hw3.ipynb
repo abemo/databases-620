{
 "cells": [
  {
   "cell_type": "markdown",
   "metadata": {},
   "source": [
    "# HW3\n",
    "This program retrieves eia government API data and writes it to a sqlite3 db."
   ]
  },
  {
   "cell_type": "code",
   "execution_count": 20,
   "metadata": {},
   "outputs": [],
   "source": [
    "import config\n",
    "import sqlite3\n",
    "import requests\n",
    "import pandas as pd"
   ]
  },
  {
   "cell_type": "code",
   "execution_count": 21,
   "metadata": {},
   "outputs": [],
   "source": [
    "# get data\n",
    "EIA_API_KEY = config.EIA_API_KEY\n",
    "API_ROUTE = config.EIA_API_ROUTE\n",
    "data = None\n",
    "try:\n",
    "    response = requests.get(API_ROUTE, headers={\"X-Api-Key\": EIA_API_KEY})\n",
    "    response.raise_for_status()  # Raise an HTTPError for bad responses\n",
    "    data = response.json()\n",
    "    data = data['response']['data']\n",
    "except requests.exceptions.HTTPError as http_err:\n",
    "    print(f\"HTTP error occurred: {http_err}\")\n",
    "except Exception as err:\n",
    "    print(f\"Other error occurred: {err}\")"
   ]
  },
  {
   "cell_type": "code",
   "execution_count": 22,
   "metadata": {},
   "outputs": [],
   "source": [
    "# put the data into a pandas dataframe\n",
    "if data is None:\n",
    "    print(\"Data is None\")\n",
    "    exit()\n",
    "df = pd.DataFrame(data)\n",
    "# Sort by time period\n",
    "df_sorted = df.sort_values(by='period', ascending=False)"
   ]
  },
  {
   "cell_type": "code",
   "execution_count": 23,
   "metadata": {},
   "outputs": [],
   "source": [
    "# write to sqlite\n",
    "conn = sqlite3.connect('energy_data.db')\n",
    "cursor = conn.cursor()\n",
    "# Drop the table if it already exists\n",
    "cursor.execute('DROP TABLE IF EXISTS energy_data')\n",
    "# Create the table with adjusted column names\n",
    "cursor.execute('''CREATE TABLE IF NOT EXISTS energy_data (\n",
    "                    period TEXT,\n",
    "                    product_name TEXT,\n",
    "                    activity_name TEXT,\n",
    "                    value REAL,\n",
    "                    unit TEXT)''')\n",
    "\n",
    "# Insert the data into the table\n",
    "for _, row in df.iterrows():\n",
    "    value = row['value']\n",
    "    \n",
    "    if value == 'w' or value == '--':\n",
    "        value = None\n",
    "    \n",
    "    cursor.execute('''INSERT INTO energy_data (period, product_name, activity_name, value, unit) \n",
    "                      VALUES (?, ?, ?, ?, ?)''', \n",
    "                      (row['period'], row['productName'], row['activityName'], value, row['unit']))\n",
    "\n",
    "conn.commit()\n",
    "conn.close()\n"
   ]
  },
  {
   "cell_type": "code",
   "execution_count": 25,
   "metadata": {},
   "outputs": [
    {
     "name": "stdout",
     "output_type": "stream",
     "text": [
      "('2011', 'Petroleum and other liquids', 37818914.1932261)\n",
      "('2012', 'Refined petroleum products', 36968829.66348722)\n",
      "('2013', 'Refined petroleum products', 37665936.11771712)\n",
      "('2014', 'Refined petroleum products', 37958618.21962755)\n",
      "('2015', 'Refined petroleum products', 38763024.61687428)\n",
      "('2016', 'Refined petroleum products', 39241938.14488688)\n",
      "('2017', 'Refined petroleum products', 39588724.18721048)\n",
      "('2018', 'Refined petroleum products', 40466262.94988344)\n",
      "('2019', 'Refined petroleum products', 40439642.89580417)\n",
      "('2020', 'Refined petroleum products', 35496819.50868142)\n"
     ]
    }
   ],
   "source": [
    "# query the most popular (most consumed by value) energy source per year\n",
    "conn = sqlite3.connect('energy_data.db')\n",
    "cursor = conn.cursor()\n",
    "\n",
    "cursor.execute('''SELECT period, product_name, MAX(value) as max_value\n",
    "                    FROM energy_data\n",
    "                    WHERE activity_name = 'Consumption'\n",
    "                    AND product_name != 'Primary energy'\n",
    "                    GROUP BY period''')\n",
    "\n",
    "rows = cursor.fetchall()\n",
    "for row in rows:\n",
    "    print(row)\n",
    "    \n",
    "conn.close()"
   ]
  },
  {
   "cell_type": "code",
   "execution_count": 26,
   "metadata": {},
   "outputs": [
    {
     "name": "stdout",
     "output_type": "stream",
     "text": [
      "('Consumption', 33079310.7404043)\n",
      "('Production', 29814652.43431527)\n"
     ]
    }
   ],
   "source": [
    "# find the average total energy consumption, and production over the total time span\n",
    "conn = sqlite3.connect('energy_data.db')\n",
    "cursor = conn.cursor()\n",
    "\n",
    "cursor.execute('''\n",
    "    SELECT 'Consumption' as activity, AVG(value) as avg_value\n",
    "    FROM energy_data\n",
    "    WHERE activity_name = 'Consumption'\n",
    "    AND product_name = 'Primary energy'\n",
    "    UNION\n",
    "    SELECT 'Production' as activity, AVG(value) as avg_value\n",
    "    FROM energy_data\n",
    "    WHERE activity_name = 'Production'\n",
    "    AND product_name = 'Primary energy'\n",
    "''')\n",
    "\n",
    "rows = cursor.fetchall()\n",
    "for row in rows:\n",
    "    print(row)\n",
    "    \n",
    "conn.close()\n"
   ]
  },
  {
   "cell_type": "code",
   "execution_count": 27,
   "metadata": {},
   "outputs": [
    {
     "name": "stdout",
     "output_type": "stream",
     "text": [
      "Initial rows: [('Bunker', 12), ('Capacity', 130), ('Consumption', 1112), ('Distribution losses', 10), ('Emissions', 70), ('Exports', 462), ('GDP', 20), ('Generation', 470), ('Imports', 462), ('Net imports', 40), ('Population', 20), ('Production', 810), ('Reserves', 10), ('Stocks, OECD', 10)]\n"
     ]
    },
    {
     "ename": "OperationalError",
     "evalue": "near \"DELETE\": syntax error",
     "output_type": "error",
     "traceback": [
      "\u001b[0;31m---------------------------------------------------------------------------\u001b[0m",
      "\u001b[0;31mOperationalError\u001b[0m                          Traceback (most recent call last)",
      "Cell \u001b[0;32mIn[27], line 14\u001b[0m\n\u001b[1;32m     11\u001b[0m rows \u001b[38;5;241m=\u001b[39m cursor\u001b[38;5;241m.\u001b[39mfetchall()\n\u001b[1;32m     12\u001b[0m \u001b[38;5;28mprint\u001b[39m(\u001b[38;5;124m\"\u001b[39m\u001b[38;5;124mInitial rows:\u001b[39m\u001b[38;5;124m\"\u001b[39m, rows)\n\u001b[0;32m---> 14\u001b[0m \u001b[43mcursor\u001b[49m\u001b[38;5;241;43m.\u001b[39;49m\u001b[43mexecute\u001b[49m\u001b[43m(\u001b[49m\u001b[38;5;124;43m'''\u001b[39;49m\n\u001b[1;32m     15\u001b[0m \u001b[38;5;124;43m    BEGIN TRANSACTION\u001b[39;49m\n\u001b[1;32m     16\u001b[0m \u001b[38;5;124;43m    DELETE FROM energy_data\u001b[39;49m\n\u001b[1;32m     17\u001b[0m \u001b[38;5;124;43m    WHERE activity_name = \u001b[39;49m\u001b[38;5;124;43m'\u001b[39;49m\u001b[38;5;124;43mExport\u001b[39;49m\u001b[38;5;124;43m'\u001b[39;49m\n\u001b[1;32m     18\u001b[0m \u001b[38;5;124;43m    SELECT activity_name, COUNT(*)\u001b[39;49m\n\u001b[1;32m     19\u001b[0m \u001b[38;5;124;43m    FROM energy_data\u001b[39;49m\n\u001b[1;32m     20\u001b[0m \u001b[38;5;124;43m    GROUP BY activity_name\u001b[39;49m\n\u001b[1;32m     21\u001b[0m \u001b[38;5;124;43m'''\u001b[39;49m\u001b[43m)\u001b[49m\n\u001b[1;32m     23\u001b[0m rows \u001b[38;5;241m=\u001b[39m cursor\u001b[38;5;241m.\u001b[39mfetchall()\n\u001b[1;32m     24\u001b[0m \u001b[38;5;28mprint\u001b[39m(\u001b[38;5;124m\"\u001b[39m\u001b[38;5;124mRows after delete:\u001b[39m\u001b[38;5;124m\"\u001b[39m, rows)\n",
      "\u001b[0;31mOperationalError\u001b[0m: near \"DELETE\": syntax error"
     ]
    }
   ],
   "source": [
    "# transaction to remove all export data, and then rollback\n",
    "conn = sqlite3.connect('energy_data.db')\n",
    "cursor = conn.cursor()\n",
    "\n",
    "cursor.execute('''\n",
    "    SELECT activity_name, COUNT(*)\n",
    "    FROM energy_data\n",
    "    GROUP BY activity_name\n",
    "''')\n",
    "\n",
    "rows = cursor.fetchall()\n",
    "print(\"Initial rows:\", rows)\n",
    "\n",
    "cursor.execute('BEGIN TRANSACTION')\n",
    "cursor.execute('''\n",
    "    DELETE FROM energy_data\n",
    "    WHERE activity_name = 'Export'\n",
    "    SELECT activity_name, COUNT(*)\n",
    "    FROM energy_data\n",
    "    GROUP BY activity_name\n",
    "''')\n",
    "\n",
    "rows = cursor.fetchall()\n",
    "print(\"Rows after delete:\", rows)\n",
    "    \n",
    "cursor.execute('ROLLBACK')\n",
    "\n",
    "cursor.execute('''\n",
    "    SELECT activity_name, COUNT(*)\n",
    "    FROM energy_data\n",
    "    GROUP BY activity_name\n",
    "''')\n",
    "\n",
    "rows = cursor.fetchall()\n",
    "print(\"Rows after rollback:\", rows)\n",
    "\n",
    "conn.close()"
   ]
  }
 ],
 "metadata": {
  "kernelspec": {
   "display_name": "cmsi-5350-env",
   "language": "python",
   "name": "python3"
  },
  "language_info": {
   "codemirror_mode": {
    "name": "ipython",
    "version": 3
   },
   "file_extension": ".py",
   "mimetype": "text/x-python",
   "name": "python",
   "nbconvert_exporter": "python",
   "pygments_lexer": "ipython3",
   "version": "3.11.2"
  }
 },
 "nbformat": 4,
 "nbformat_minor": 2
}
