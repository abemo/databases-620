{
 "cells": [
  {
   "cell_type": "markdown",
   "metadata": {},
   "source": [
    "# HW3\n",
    "This program retrieves eia government API data and writes it to a sqlite3 db."
   ]
  },
  {
   "cell_type": "code",
   "execution_count": 1,
   "metadata": {},
   "outputs": [],
   "source": [
    "import config\n",
    "import sqlite3\n",
    "import requests\n",
    "import pandas as pd"
   ]
  },
  {
   "cell_type": "code",
   "execution_count": 2,
   "metadata": {},
   "outputs": [],
   "source": [
    "# get data\n",
    "EIA_API_KEY = config.EIA_API_KEY\n",
    "API_ROUTE = config.EIA_API_ROUTE\n",
    "data = None\n",
    "try:\n",
    "    response = requests.get(API_ROUTE, headers={\"X-Api-Key\": EIA_API_KEY})\n",
    "    response.raise_for_status()  # Raise an HTTPError for bad responses\n",
    "    data = response.json()\n",
    "    data = data['response']['data']\n",
    "except requests.exceptions.HTTPError as http_err:\n",
    "    print(f\"HTTP error occurred: {http_err}\")\n",
    "except Exception as err:\n",
    "    print(f\"Other error occurred: {err}\")"
   ]
  },
  {
   "cell_type": "code",
   "execution_count": 14,
   "metadata": {},
   "outputs": [],
   "source": [
    "# put the data into a pandas dataframe\n",
    "if data is None:\n",
    "    print(\"Data is None\")\n",
    "    exit()\n",
    "df = pd.DataFrame(data)\n",
    "# Sort by time period\n",
    "df_sorted = df.sort_values(by='period', ascending=False)\n",
    "# print(df_sorted.head())"
   ]
  },
  {
   "cell_type": "code",
   "execution_count": 15,
   "metadata": {},
   "outputs": [],
   "source": [
    "# write to sqlite\n",
    "conn = sqlite3.connect('energy_data.db')\n",
    "cursor = conn.cursor()\n",
    "\n",
    "cursor.execute('''CREATE TABLE IF NOT EXISTS energy_data (\n",
    "                    country TEXT,\n",
    "                    period TEXT,\n",
    "                    energy_source TEXT,\n",
    "                    value REAL,\n",
    "                    unit TEXT)''')\n",
    "\n",
    "for _, row in df.iterrows():\n",
    "    value = row['value'] \n",
    "    \n",
    "    if value == 'w' or value == '--':\n",
    "        value = None\n",
    "        \n",
    "    cursor.execute('''INSERT INTO energy_data (country, period, energy_source, value, unit) \n",
    "                        VALUES (?, ?, ?, ?, ?)''', \n",
    "                        (row['countryRegionName'], row['period'], row['productName'], value, row['unit']))\n",
    "\n",
    "conn.commit()\n",
    "conn.close()"
   ]
  },
  {
   "cell_type": "code",
   "execution_count": 3,
   "metadata": {},
   "outputs": [
    {
     "name": "stdout",
     "output_type": "stream",
     "text": [
      "('2024-04', 'Total petroleum and other liquids', 22719.646)\n",
      "('2024-05', 'Total petroleum and other liquids', 22737.069)\n",
      "('2024-06', 'Total petroleum and other liquids', 22810.883)\n"
     ]
    }
   ],
   "source": [
    "# query the data, getting the most popular energy source per year for the US\n",
    "conn = sqlite3.connect('energy_data.db')\n",
    "cursor = conn.cursor()\n",
    "\n",
    "cursor.execute('''SELECT period, energy_source, MAX(value) as max_value\n",
    "                    FROM energy_data\n",
    "                    WHERE country = 'United States'\n",
    "                    GROUP BY period''')\n",
    "\n",
    "rows = cursor.fetchall()\n",
    "for row in rows:\n",
    "    print(row)\n",
    "    \n",
    "conn.close()"
   ]
  }
 ],
 "metadata": {
  "kernelspec": {
   "display_name": "cmsi-5350-env",
   "language": "python",
   "name": "python3"
  },
  "language_info": {
   "codemirror_mode": {
    "name": "ipython",
    "version": 3
   },
   "file_extension": ".py",
   "mimetype": "text/x-python",
   "name": "python",
   "nbconvert_exporter": "python",
   "pygments_lexer": "ipython3",
   "version": "3.11.2"
  }
 },
 "nbformat": 4,
 "nbformat_minor": 2
}
