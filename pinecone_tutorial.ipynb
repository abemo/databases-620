{
 "cells": [
  {
   "cell_type": "code",
   "execution_count": 2,
   "metadata": {},
   "outputs": [],
   "source": [
    "import config\n",
    "import time\n",
    "\n",
    "api_key = config.PINECONE_API_KEY\n",
    "\n",
    "# Import the Pinecone library\n",
    "from pinecone.grpc import PineconeGRPC as Pinecone\n",
    "from pinecone import ServerlessSpec\n",
    "\n",
    "# Initialize a Pinecone client with your API key\n",
    "pc = Pinecone(api_key=api_key)"
   ]
  },
  {
   "cell_type": "code",
   "execution_count": null,
   "metadata": {},
   "outputs": [
    {
     "name": "stdout",
     "output_type": "stream",
     "text": [
      "EmbeddingsList(\n",
      "  model='multilingual-e5-large',\n",
      "  data=[\n",
      "    {'values': [0.058074951171875, -0.01288604736328125, ..., -0.0243072509765625, 0.0236663818359375]},\n",
      "    {'values': [0.01004791259765625, -0.035614013671875, ..., -0.0428466796875, -0.005855560302734375]},\n",
      "    ... (16 more embeddings) ...,\n",
      "    {'values': [0.025390625, 0.00762176513671875, ..., -0.0279998779296875, -0.0231475830078125]},\n",
      "    {'values': [0.0300140380859375, 0.00909423828125, ..., -0.0279693603515625, -0.0224151611328125]}\n",
      "  ],\n",
      "  usage={'total_tokens': 380}\n",
      ")\n"
     ]
    }
   ],
   "source": [
    "# Define a sample dataset where each item has a unique ID and piece of text\n",
    "data = [\n",
    "    {\"id\": \"run1\", \"text\": \"She decided to run a marathon after months of training.\"},\n",
    "    {\"id\": \"run2\", \"text\": \"The software program needs to run for at least 30 minutes to complete the test.\"},\n",
    "    {\"id\": \"run3\", \"text\": \"He started a small business that has been running successfully for five years.\"},\n",
    "    {\"id\": \"run4\", \"text\": \"The river runs through the valley, providing water to nearby towns.\"},\n",
    "    {\"id\": \"run5\", \"text\": \"The machine is designed to run on solar power.\"},\n",
    "    {\"id\": \"run6\", \"text\": \"A bad run of luck caused the team to lose several games in a row.\"},\n",
    "    {\"id\": \"run7\", \"text\": \"She had to run to catch the last bus of the night.\"},\n",
    "    {\"id\": \"run8\", \"text\": \"They decided to run a series of experiments to test the new hypothesis.\"},\n",
    "    {\"id\": \"run9\", \"text\": \"His term as mayor is coming to an end after a successful two-year run.\"},\n",
    "    {\"id\": \"run10\", \"text\": \"The company is expected to run out of supplies if they don't reorder soon.\"},\n",
    "    {\"id\": \"run11\", \"text\": \"The colors in the fabric began to run after the shirt was washed.\"},\n",
    "    {\"id\": \"run12\", \"text\": \"The actor had a long run on the popular TV show.\"},\n",
    "    {\"id\": \"run13\", \"text\": \"The students were asked to run a simulation of the system to observe its behavior.\"},\n",
    "    {\"id\": \"run14\", \"text\": \"The train runs every 30 minutes from the station.\"},\n",
    "    {\"id\": \"run15\", \"text\": \"She felt a run in her stocking just before the big meeting.\"},\n",
    "    {\"id\": \"run16\", \"text\": \"The car has a range of 300 miles on a full tank when it's running smoothly.\"},\n",
    "    {\"id\": \"run17\", \"text\": \"He was worried that the negotiations might run over the deadline.\"},\n",
    "    {\"id\": \"run18\", \"text\": \"The team made a strong run for the championship this season.\"},\n",
    "    {\"id\": \"run19\", \"text\": \"They had to run a wire from the power source to the device to complete the circuit.\"},\n",
    "    {\"id\": \"run20\", \"text\": \"The story has been running in the newspaper for the past few weeks.\"},\n",
    "    {\"id\": \"run21\", \"text\": \"The movie had a successful run at the box office, breaking multiple records.\"},\n",
    "    {\"id\": \"run22\", \"text\": \"He needs to run some errands before heading to the office.\"},\n",
    "    {\"id\": \"run23\", \"text\": \"The team is on a winning run, having secured five victories in a row.\"},\n",
    "    {\"id\": \"run24\", \"text\": \"They decided to run the advertisement during the evening news.\"},\n",
    "    {\"id\": \"run25\", \"text\": \"The printer started to run out of ink halfway through the job.\"},\n",
    "    {\"id\": \"run26\", \"text\": \"She felt her heart race as she made a mad run for the finish line.\"},\n",
    "    {\"id\": \"run27\", \"text\": \"The engine will run more efficiently if you clean the fuel injectors.\"},\n",
    "    {\"id\": \"run28\", \"text\": \"They run a charity organization that helps the homeless.\"},\n",
    "    {\"id\": \"run29\", \"text\": \"The stock market is currently on a bull run, with prices steadily increasing.\"},\n",
    "    {\"id\": \"run30\", \"text\": \"They need to run a background check before offering him the job.\"},\n",
    "    {\"id\": \"run31\", \"text\": \"He realized he had left the tap running all night.\"},\n",
    "    {\"id\": \"run32\", \"text\": \"She went for a quick run around the block to clear her mind.\"},\n",
    "    {\"id\": \"run33\", \"text\": \"The committee decided to run the event online instead of in person.\"},\n",
    "    {\"id\": \"run34\", \"text\": \"The rumor started to run through the office, causing a lot of speculation.\"},\n",
    "    {\"id\": \"run35\", \"text\": \"Their production run for the new product was completed last week.\"},\n",
    "    {\"id\": \"run36\", \"text\": \"She’s been running simulations to test the new algorithm.\"},\n",
    "    {\"id\": \"run37\", \"text\": \"The politician decided to run for office in the upcoming election.\"},\n",
    "    {\"id\": \"run38\", \"text\": \"They had to run a diagnostic to figure out what was wrong with the system.\"},\n",
    "    {\"id\": \"run39\", \"text\": \"He plans to run the data analysis overnight due to the large dataset.\"},\n",
    "    {\"id\": \"run40\", \"text\": \"The cable runs behind the wall, so you won’t see any wires.\"}\n",
    "]\n",
    "\n",
    "# Convert the text into numerical vectors that Pinecone can index\n",
    "embeddings = pc.inference.embed(\n",
    "    model=\"multilingual-e5-large\",\n",
    "    inputs=[d['text'] for d in data],\n",
    "    parameters={\"input_type\": \"passage\", \"truncate\": \"END\"}\n",
    ")\n",
    "\n",
    "print(embeddings)"
   ]
  },
  {
   "cell_type": "code",
   "execution_count": 9,
   "metadata": {},
   "outputs": [],
   "source": [
    "# Create a serverless index\n",
    "index_name = \"example-index\"\n",
    "\n",
    "if not pc.has_index(index_name):\n",
    "    pc.create_index(\n",
    "        name=index_name,\n",
    "        dimension=1024,\n",
    "        metric=\"cosine\",\n",
    "        spec=ServerlessSpec(\n",
    "            cloud='aws', \n",
    "            region='us-east-1'\n",
    "        ) \n",
    "    ) \n",
    "\n",
    "# Wait for the index to be ready\n",
    "while not pc.describe_index(index_name).status['ready']:\n",
    "    time.sleep(1)"
   ]
  },
  {
   "cell_type": "code",
   "execution_count": 10,
   "metadata": {},
   "outputs": [
    {
     "name": "stdout",
     "output_type": "stream",
     "text": [
      "{'dimension': 1024,\n",
      " 'index_fullness': 0.0,\n",
      " 'namespaces': {'example-namespace': {'vector_count': 20}},\n",
      " 'total_vector_count': 20}\n"
     ]
    }
   ],
   "source": [
    "# Target the index where you'll store the vector embeddings\n",
    "index = pc.Index(\"example-index\")\n",
    "\n",
    "# Prepare the records for upsert\n",
    "# Each contains an 'id', the embedding 'values', and the original text as 'metadata'\n",
    "records = []\n",
    "for d, e in zip(data, embeddings):\n",
    "    records.append({\n",
    "        \"id\": d['id'],\n",
    "        \"values\": e['values'],\n",
    "        \"metadata\": {'text': d['text']}\n",
    "    })\n",
    "\n",
    "# Upsert the records into the index\n",
    "index.upsert(\n",
    "    vectors=records,\n",
    "    namespace=\"example-namespace\"\n",
    ")\n",
    "\n",
    "time.sleep(10)  # Wait for the upserted vectors to be indexed\n",
    "\n",
    "print(index.describe_index_stats())"
   ]
  },
  {
   "cell_type": "code",
   "execution_count": 11,
   "metadata": {},
   "outputs": [
    {
     "name": "stdout",
     "output_type": "stream",
     "text": [
      "{'matches': [{'id': 'run16',\n",
      "              'metadata': {'text': 'The car has a range of 300 miles on a full '\n",
      "                                   \"tank when it's running smoothly.\"},\n",
      "              'score': 0.7420962,\n",
      "              'sparse_values': {'indices': [], 'values': []},\n",
      "              'values': []},\n",
      "             {'id': 'run11',\n",
      "              'metadata': {'text': 'The colors in the fabric began to run '\n",
      "                                   'after the shirt was washed.'},\n",
      "              'score': 0.74083894,\n",
      "              'sparse_values': {'indices': [], 'values': []},\n",
      "              'values': []},\n",
      "             {'id': 'run4',\n",
      "              'metadata': {'text': 'The river runs through the valley, '\n",
      "                                   'providing water to nearby towns.'},\n",
      "              'score': 0.73837006,\n",
      "              'sparse_values': {'indices': [], 'values': []},\n",
      "              'values': []}],\n",
      " 'namespace': 'example-namespace',\n",
      " 'usage': {'read_units': 6}}\n"
     ]
    }
   ],
   "source": [
    "# Define your query\n",
    "query = \"What does run mean?\"\n",
    "\n",
    "# Convert the query into a numerical vector that Pinecone can search with\n",
    "query_embedding = pc.inference.embed(\n",
    "    model=\"multilingual-e5-large\",\n",
    "    inputs=[query],\n",
    "    parameters={\n",
    "        \"input_type\": \"query\"\n",
    "    }\n",
    ")\n",
    "\n",
    "# Search the index for the three most similar vectors\n",
    "results = index.query(\n",
    "    namespace=\"example-namespace\",\n",
    "    vector=query_embedding[0].values,\n",
    "    top_k=3,\n",
    "    include_values=False,\n",
    "    include_metadata=True\n",
    ")\n",
    "\n",
    "print(results)\n"
   ]
  },
  {
   "cell_type": "code",
   "execution_count": 14,
   "metadata": {},
   "outputs": [
    {
     "name": "stdout",
     "output_type": "stream",
     "text": [
      "{'matches': [{'id': 'run11',\n",
      "              'metadata': {'text': 'The colors in the fabric began to run '\n",
      "                                   'after the shirt was washed.'},\n",
      "              'score': 0.74563885,\n",
      "              'sparse_values': {'indices': [], 'values': []},\n",
      "              'values': []},\n",
      "             {'id': 'run18',\n",
      "              'metadata': {'text': 'The team made a strong run for the '\n",
      "                                   'championship this season.'},\n",
      "              'score': 0.7443016,\n",
      "              'sparse_values': {'indices': [], 'values': []},\n",
      "              'values': []},\n",
      "             {'id': 'run15',\n",
      "              'metadata': {'text': 'She felt a run in her stocking just before '\n",
      "                                   'the big meeting.'},\n",
      "              'score': 0.7442411,\n",
      "              'sparse_values': {'indices': [], 'values': []},\n",
      "              'values': []}],\n",
      " 'namespace': 'example-namespace',\n",
      " 'usage': {'read_units': 6}}\n"
     ]
    }
   ],
   "source": [
    "# Define your query\n",
    "query = \"Give me the top sentences that use the word run as a verb meaning to move quickly on foot.\"\n",
    "\n",
    "# Convert the query into a numerical vector that Pinecone can search with\n",
    "query_embedding = pc.inference.embed(\n",
    "    model=\"multilingual-e5-large\",\n",
    "    inputs=[query],\n",
    "    parameters={\n",
    "        \"input_type\": \"query\"\n",
    "    }\n",
    ")\n",
    "\n",
    "# Search the index for the three most similar vectors\n",
    "results = index.query(\n",
    "    namespace=\"example-namespace\",\n",
    "    vector=query_embedding[0].values,\n",
    "    top_k=3,\n",
    "    include_values=False,\n",
    "    include_metadata=True\n",
    ")\n",
    "\n",
    "print(results)"
   ]
  },
  {
   "cell_type": "code",
   "execution_count": 6,
   "metadata": {},
   "outputs": [],
   "source": [
    "pc.delete_index(index_name)"
   ]
  }
 ],
 "metadata": {
  "kernelspec": {
   "display_name": "cmsi-5350-env",
   "language": "python",
   "name": "python3"
  },
  "language_info": {
   "codemirror_mode": {
    "name": "ipython",
    "version": 3
   },
   "file_extension": ".py",
   "mimetype": "text/x-python",
   "name": "python",
   "nbconvert_exporter": "python",
   "pygments_lexer": "ipython3",
   "version": "3.11.2"
  }
 },
 "nbformat": 4,
 "nbformat_minor": 2
}
